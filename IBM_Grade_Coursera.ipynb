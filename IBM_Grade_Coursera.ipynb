{
  "nbformat": 4,
  "nbformat_minor": 0,
  "metadata": {
    "colab": {
      "provenance": []
    },
    "kernelspec": {
      "name": "python3",
      "display_name": "Python 3"
    },
    "language_info": {
      "name": "python"
    }
  },
  "cells": [
    {
      "cell_type": "code",
      "execution_count": 3,
      "metadata": {
        "id": "QYhqXSSdlDBu"
      },
      "outputs": [],
      "source": [
        "# Data Science Final Project\n",
        "\n",
        "## Introduction\n",
        "This notebook covers key topics related to data science, including programming languages, libraries, tools, and simple arithmetic examples.\n",
        "\n",
        "## Data Science Languages\n",
        "- Python\n",
        "- R\n",
        "- SQL\n",
        "- Java\n",
        "- Julia\n",
        "\n",
        "## Data Science Libraries\n",
        "- Pandas\n",
        "- NumPy\n",
        "- Matplotlib\n",
        "- Scikit-learn\n",
        "- TensorFlow\n",
        "- Keras\n",
        "\n",
        "## Data Science Tools\n",
        "\n",
        "| Tool             | Category          |\n",
        "|------------------|-------------------|\n",
        "| Jupyter Notebook | IDE               |\n",
        "| GitHub           | Version Control   |\n",
        "| Tableau          | Data Visualization|\n",
        "| Apache Hadoop    | Data Processing   |\n",
        "| Python           | Programming       |\n",
        "\n",
        "## Arithmetic Expression Examples\n",
        "In this section, we will demonstrate how to perform basic arithmetic operations using Python.\n",
        "\n"
      ]
    },
    {
      "cell_type": "code",
      "source": [
        "# Multiply two numbers\n",
        "multiply_result = 5 * 3\n",
        "\n",
        "# Add two numbers\n",
        "add_result = 10 + 7\n",
        "\n",
        "multiply_result, add_result\n"
      ],
      "metadata": {
        "colab": {
          "base_uri": "https://localhost:8080/"
        },
        "id": "0sFniEBrlDZ9",
        "outputId": "e8493516-ed72-4110-e9a0-ec3b060759c9"
      },
      "execution_count": 2,
      "outputs": [
        {
          "output_type": "execute_result",
          "data": {
            "text/plain": [
              "(15, 17)"
            ]
          },
          "metadata": {},
          "execution_count": 2
        }
      ]
    },
    {
      "cell_type": "code",
      "source": [
        "# Function to convert minutes to hours\n",
        "def convert_minutes_to_hours(minutes):\n",
        "    return minutes / 60\n",
        "\n",
        "# Convert 120 minutes to hours\n",
        "convert_minutes_to_hours(120)\n"
      ],
      "metadata": {
        "colab": {
          "base_uri": "https://localhost:8080/"
        },
        "id": "ttoHSxXNlDdx",
        "outputId": "c8dbe927-21c0-4416-88a3-72a0f739b45c"
      },
      "execution_count": 3,
      "outputs": [
        {
          "output_type": "execute_result",
          "data": {
            "text/plain": [
              "2.0"
            ]
          },
          "metadata": {},
          "execution_count": 3
        }
      ]
    },
    {
      "cell_type": "code",
      "source": [],
      "metadata": {
        "id": "B9JTrDb0lDf-"
      },
      "execution_count": null,
      "outputs": []
    }
  ]
}